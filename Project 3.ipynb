{
 "cells": [
  {
   "cell_type": "code",
   "execution_count": 2,
   "metadata": {},
   "outputs": [
    {
     "ename": "ModuleNotFoundError",
     "evalue": "No module named 'pyspark'",
     "output_type": "error",
     "traceback": [
      "\u001b[1;31m---------------------------------------------------------------------------\u001b[0m",
      "\u001b[1;31mModuleNotFoundError\u001b[0m                       Traceback (most recent call last)",
      "Cell \u001b[1;32mIn[2], line 1\u001b[0m\n\u001b[1;32m----> 1\u001b[0m \u001b[38;5;28;01mimport\u001b[39;00m \u001b[38;5;21;01mpyspark\u001b[39;00m\n\u001b[0;32m      2\u001b[0m \u001b[38;5;28;01mimport\u001b[39;00m \u001b[38;5;21;01mpandas\u001b[39;00m \u001b[38;5;28;01mas\u001b[39;00m \u001b[38;5;21;01mpd\u001b[39;00m\n\u001b[0;32m      3\u001b[0m \u001b[38;5;28;01mfrom\u001b[39;00m \u001b[38;5;21;01mpyspark\u001b[39;00m\u001b[38;5;21;01m.\u001b[39;00m\u001b[38;5;21;01msql\u001b[39;00m \u001b[38;5;28;01mimport\u001b[39;00m functions \u001b[38;5;28;01mas\u001b[39;00m F\n",
      "\u001b[1;31mModuleNotFoundError\u001b[0m: No module named 'pyspark'"
     ]
    }
   ],
   "source": [
    "import pyspark\n",
    "import pandas as pd\n",
    "from pyspark.sql import functions as F\n",
    "from pyspark.sql import SparkSession\n",
    "from pyspark.sql import Window\n",
    "from pyspark.sql.functions import lit\n",
    "from pyspark.sql.functions import *\n",
    "from subprocess import call"
   ]
  },
  {
   "cell_type": "code",
   "execution_count": 2,
   "metadata": {},
   "outputs": [],
   "source": [
    "spark = (\n",
    "    SparkSession.builder\n",
    "                .appName(\"Stack Overflow Data Wrangling\")\n",
    "                .config(\"spark.jars\", \"postgresql-42.2.8.jar\") \n",
    "                .getOrCreate()\n",
    ")\n"
   ]
  },
  {
   "cell_type": "code",
   "execution_count": 3,
   "metadata": {},
   "outputs": [],
   "source": [
    "questions = spark.read.csv(\n",
    "    \"questions.csv\",\n",
    "    header=True, inferSchema=True, multiLine=True, escape = '\"'\n",
    "    ) "
   ]
  },
  {
   "cell_type": "code",
   "execution_count": 19,
   "metadata": {},
   "outputs": [
    {
     "name": "stdout",
     "output_type": "stream",
     "text": [
      "root\n",
      " |-- id: integer (nullable = true)\n",
      " |-- user_id: integer (nullable = true)\n",
      " |-- title: string (nullable = true)\n",
      " |-- body: string (nullable = true)\n",
      " |-- accepted_answer_id: integer (nullable = true)\n",
      " |-- score: integer (nullable = true)\n",
      " |-- view_count: integer (nullable = true)\n",
      " |-- comment_count: integer (nullable = true)\n",
      " |-- created_at: timestamp (nullable = true)\n",
      "\n"
     ]
    }
   ],
   "source": [
    "questions.printSchema()"
   ]
  },
  {
   "cell_type": "code",
   "execution_count": 20,
   "metadata": {},
   "outputs": [
    {
     "name": "stdout",
     "output_type": "stream",
     "text": [
      "+------------+----------------+--------------------+--------------------+------------------+-----+----------+-------------+--------------------+\n",
      "|questions_id|question_user_id|               title|                body|accepted_answer_id|score|view_count|comment_count|questions_created_at|\n",
      "+------------+----------------+--------------------+--------------------+------------------+-----+----------+-------------+--------------------+\n",
      "|    54233315|         1118630|XPath parent node...|<p>I'm trying to ...|          54233368|    1|       134|            4| 2019-01-17 09:59:47|\n",
      "|    54233145|         7984274| Is this a java BUG?|<p>why the follow...|          54234312|   -2|       132|            3| 2019-01-17 09:50:12|\n",
      "|    54233331|         1877002|Different results...|<p>I am new to li...|          54233375|   -1|        26|            0| 2019-01-17 10:00:17|\n",
      "|    54233149|        10927076|Using eval as pro...|<p>I know there a...|          54233257|    1|        49|            2| 2019-01-17 09:50:30|\n",
      "|    54233337|         8171766|Can't run ng serv...|<p>So I am trying...|              null|    1|       464|            1| 2019-01-17 10:00:32|\n",
      "+------------+----------------+--------------------+--------------------+------------------+-----+----------+-------------+--------------------+\n",
      "only showing top 5 rows\n",
      "\n"
     ]
    }
   ],
   "source": [
    "questions = questions.withColumnRenamed('id', 'questions_id') \n",
    "questions = questions.withColumnRenamed('user_id', 'question_user_id')\n",
    "questions = questions.withColumnRenamed('created_at', 'questions_created_at')\n",
    "questions.show(5)"
   ]
  },
  {
   "cell_type": "code",
   "execution_count": 21,
   "metadata": {},
   "outputs": [],
   "source": [
    "answers = spark.read.csv(\n",
    "      \"answers.csv\",\n",
    "    header=True, inferSchema=True,multiLine=True, escape = '\"'\n",
    "    )"
   ]
  },
  {
   "cell_type": "code",
   "execution_count": 22,
   "metadata": {},
   "outputs": [
    {
     "name": "stdout",
     "output_type": "stream",
     "text": [
      "+---------+--------------+-----------+--------------------+-----+-------------+-------------------+\n",
      "|answer_id|answer_user_id|question_id|                body|score|comment_count|         created_at|\n",
      "+---------+--------------+-----------+--------------------+-----+-------------+-------------------+\n",
      "| 53999517|       1771994|   53999275|<p>The <code>for....|    0|            0|2019-01-01 22:42:02|\n",
      "| 54005064|        948762|   54004882|<p>This is becaus...|    0|            0|2019-01-02 10:55:21|\n",
      "| 53995281|       5159168|   53995029|<p>The simplest m...|    0|            0|2019-01-01 12:04:45|\n",
      "| 54000208|       7964527|   54000128|<p>Using <code>ro...|    0|            0|2019-01-02 01:12:19|\n",
      "| 54005110|       9653876|   54003879|<p>Check your <st...|    0|            0|2019-01-02 10:58:13|\n",
      "+---------+--------------+-----------+--------------------+-----+-------------+-------------------+\n",
      "only showing top 5 rows\n",
      "\n"
     ]
    }
   ],
   "source": [
    "answers = answers.withColumnRenamed('id', 'answer_id') \n",
    "answers = answers.withColumnRenamed('user_id', 'answer_user_id')\n",
    "answers.show(5)"
   ]
  },
  {
   "cell_type": "code",
   "execution_count": 23,
   "metadata": {},
   "outputs": [],
   "source": [
    "users = spark.read.csv(\n",
    "    \"users.csv\",\n",
    "    header=True, inferSchema=True,multiLine=True, escape = '\"'\n",
    "    )"
   ]
  },
  {
   "cell_type": "code",
   "execution_count": 24,
   "metadata": {},
   "outputs": [],
   "source": [
    "users = users.withColumnRenamed('id', 'user_id')\n",
    "# users.show(5)"
   ]
  },
  {
   "cell_type": "code",
   "execution_count": 25,
   "metadata": {},
   "outputs": [
    {
     "name": "stdout",
     "output_type": "stream",
     "text": [
      "root\n",
      " |-- user_id: integer (nullable = true)\n",
      " |-- display_name: string (nullable = true)\n",
      " |-- reputation: integer (nullable = true)\n",
      " |-- website_url: string (nullable = true)\n",
      " |-- location: string (nullable = true)\n",
      " |-- about_me: string (nullable = true)\n",
      " |-- views: string (nullable = true)\n",
      " |-- up_votes: integer (nullable = true)\n",
      " |-- down_votes: integer (nullable = true)\n",
      " |-- image_url: string (nullable = true)\n",
      " |-- created_at: string (nullable = true)\n",
      " |-- updated_at: string (nullable = true)\n",
      " |-- _c12: timestamp (nullable = true)\n",
      " |-- _c13: timestamp (nullable = true)\n",
      "\n"
     ]
    }
   ],
   "source": [
    "users.printSchema()"
   ]
  },
  {
   "cell_type": "markdown",
   "metadata": {},
   "source": [
    "# TASKS"
   ]
  },
  {
   "cell_type": "markdown",
   "metadata": {},
   "source": [
    "# Select users from only one country of your choosing."
   ]
  },
  {
   "cell_type": "code",
   "execution_count": 26,
   "metadata": {},
   "outputs": [
    {
     "name": "stdout",
     "output_type": "stream",
     "text": [
      "+--------+----------------+----------+--------------------+--------+--------------------+-----+--------+----------+--------------------+-------------------+-------------------+----+----+\n",
      "| user_id|    display_name|reputation|         website_url|location|            about_me|views|up_votes|down_votes|           image_url|         created_at|         updated_at|_c12|_c13|\n",
      "+--------+----------------+----------+--------------------+--------+--------------------+-----+--------+----------+--------------------+-------------------+-------------------+----+----+\n",
      "|10260337|Pratik K. Tiwari|         1|http://pratiktiwa...|   India|<p>Hi, I am first...|    2|       0|         0|                null|2018-08-22 14:40:05|2019-04-25 08:34:33|null|null|\n",
      "| 8387608|           Abhay|         1|                null|   India|                null|    0|       0|         0|https://www.grava...|2017-07-29 22:20:14|2019-09-06 16:03:34|null|null|\n",
      "| 4712224|    DevallaVamsi|         1|                null|   India|                null|    0|       0|         0|https://www.grava...|2015-03-25 13:20:41|2019-06-26 15:22:39|null|null|\n",
      "|10268565|           sagar|         1|                null|   India|                null|    5|       0|         0|https://www.grava...|2018-08-24 08:15:37|2019-05-23 16:30:43|null|null|\n",
      "| 8403502|          iamnav|         1|                null|   India|                null|    1|       0|         0|https://www.grava...|2017-08-02 05:56:19|2019-10-12 20:17:03|null|null|\n",
      "+--------+----------------+----------+--------------------+--------+--------------------+-----+--------+----------+--------------------+-------------------+-------------------+----+----+\n",
      "only showing top 5 rows\n",
      "\n"
     ]
    }
   ],
   "source": [
    "\n",
    "users.registerTempTable('users')\n",
    "userCountry = spark.sql(\"SELECT * FROM users WHERE location = 'India'\").show(5)"
   ]
  },
  {
   "cell_type": "code",
   "execution_count": 27,
   "metadata": {},
   "outputs": [],
   "source": [
    "# users = users.withColumn('location', regexp_replace('location', 'USA', 'United States'))\n"
   ]
  },
  {
   "cell_type": "code",
   "execution_count": 28,
   "metadata": {},
   "outputs": [],
   "source": [
    "indiaTb = users.filter(users.location.contains('India'))"
   ]
  },
  {
   "cell_type": "code",
   "execution_count": 29,
   "metadata": {},
   "outputs": [],
   "source": [
    "indiaTb = indiaTb.withColumn('location', lower(col('location')))"
   ]
  },
  {
   "cell_type": "code",
   "execution_count": 30,
   "metadata": {},
   "outputs": [
    {
     "name": "stdout",
     "output_type": "stream",
     "text": [
      "+--------+------------------+----------+--------------------+--------------------+--------------------+-----+--------+----------+--------------------+-------------------+-------------------+----+----+\n",
      "| user_id|      display_name|reputation|         website_url|            location|            about_me|views|up_votes|down_votes|           image_url|         created_at|         updated_at|_c12|_c13|\n",
      "+--------+------------------+----------+--------------------+--------------------+--------------------+-----+--------+----------+--------------------+-------------------+-------------------+----+----+\n",
      "| 8357266|            suryan|         7|https://twitter.c...|    bangalore, india|                null|    8|       0|         0|https://www.grava...|2017-07-24 10:55:23|2019-06-19 05:00:16|null|null|\n",
      "| 6504306|             A.Raw|         4|                null|    new delhi, india|                null|   10|       0|         0|https://i.stack.i...|2016-06-23 12:58:03|2019-10-12 06:59:32|null|null|\n",
      "|10260743|     Kartik Juneja|         3|                null|    gharaunda, india|<p>4th year Btech...|    2|       0|         0|https://lh5.googl...|2018-08-22 16:14:32|2019-01-27 13:05:45|null|null|\n",
      "| 4689205|            sd5869|         1|    http://sd5869.me|    new delhi, india|                null|    5|       0|         0|                null|2015-03-19 10:20:21|2019-09-18 14:36:03|null|null|\n",
      "|10262756|           Ali Mir|         5|    http://nowebsite|    jalandhar, india|<p>I am a profess...|    9|       0|         0|https://lh4.googl...|2018-08-23 04:10:49|2019-10-12 06:38:20|null|null|\n",
      "|10262983|     Nikunj Hapani|         1|                null|        surat, india|<p>Hello, I am PH...|    7|       0|         0|https://www.grava...|2018-08-23 05:44:28|2019-03-28 12:34:16|null|null|\n",
      "|10249338|Prashant Kalikotay|         3|                null|darjeeling, west ...|<p>Currently: Pur...|    4|       0|         0|https://lh6.googl...|2018-08-20 10:17:27|2019-09-23 15:29:44|null|null|\n",
      "|10254503|      Akshay Nikam|         6|                null|         pune, india|                null|    6|       0|         0|https://lh4.googl...|2018-08-21 11:23:31|2019-08-22 06:36:53|null|null|\n",
      "|10254796|            Harsh |         6|                null|       mumbai, india|                null|    4|       0|         0|https://lh4.googl...|2018-08-21 12:33:09|2019-08-21 10:48:38|null|null|\n",
      "| 8363933|    Jitendra Kumar|         1|                null|    bangalore, india|                null|    1|       0|         0|https://i.stack.i...|2017-07-25 13:15:23|2019-10-09 07:36:13|null|null|\n",
      "+--------+------------------+----------+--------------------+--------------------+--------------------+-----+--------+----------+--------------------+-------------------+-------------------+----+----+\n",
      "only showing top 10 rows\n",
      "\n"
     ]
    }
   ],
   "source": [
    "indiaTb = indiaTb.withColumn('location', regexp_replace('location', r\"[,]\\s*\\w*\\s*[,]\", ','))\n",
    "indiaTb.show(10)"
   ]
  },
  {
   "cell_type": "markdown",
   "metadata": {},
   "source": [
    "# Extract the country and city into new columns"
   ]
  },
  {
   "cell_type": "code",
   "execution_count": 31,
   "metadata": {},
   "outputs": [
    {
     "name": "stdout",
     "output_type": "stream",
     "text": [
      "+--------+-------------+-----+----------+-------------------+-------------------+-------------------+---------+-------+\n",
      "| user_id| display_name|views|reputation|         updated_at|           location|         created_at|     city|country|\n",
      "+--------+-------------+-----+----------+-------------------+-------------------+-------------------+---------+-------+\n",
      "| 8357266|       suryan|    8|         7|2019-06-19 05:00:16|[bangalore,  india]|2017-07-24 10:55:23|bangalore|  india|\n",
      "| 6504306|        A.Raw|   10|         4|2019-10-12 06:59:32|[new delhi,  india]|2016-06-23 12:58:03|new delhi|  india|\n",
      "|10260743|Kartik Juneja|    2|         3|2019-01-27 13:05:45|[gharaunda,  india]|2018-08-22 16:14:32|gharaunda|  india|\n",
      "| 4689205|       sd5869|    5|         1|2019-09-18 14:36:03|[new delhi,  india]|2015-03-19 10:20:21|new delhi|  india|\n",
      "|10262756|      Ali Mir|    9|         5|2019-10-12 06:38:20|[jalandhar,  india]|2018-08-23 04:10:49|jalandhar|  india|\n",
      "+--------+-------------+-----+----------+-------------------+-------------------+-------------------+---------+-------+\n",
      "only showing top 5 rows\n",
      "\n"
     ]
    }
   ],
   "source": [
    "\n",
    "\n",
    "indialoc = indiaTb.withColumn('location', split(indiaTb.location, ',')) \\\n",
    "  .select('user_id', 'display_name', 'views', 'reputation', 'updated_at', 'location', 'created_at', element_at(col('location'),-2).alias('city'), element_at(col('location'), -1).alias('country'))\n",
    "\n",
    "indialoc.show(5)\n",
    "\n"
   ]
  },
  {
   "cell_type": "markdown",
   "metadata": {},
   "source": [
    "# Join this with the questions and only pick questions with at least 20 view_counts.\n"
   ]
  },
  {
   "cell_type": "code",
   "execution_count": 32,
   "metadata": {},
   "outputs": [
    {
     "name": "stdout",
     "output_type": "stream",
     "text": [
      "+-------+------------+-----+----------+-------------------+--------------------+-------------------+--------------+-------+------------+----------------+--------------------+--------------------+------------------+-----+----------+-------------+--------------------+\n",
      "|user_id|display_name|views|reputation|         updated_at|            location|         created_at|          city|country|questions_id|question_user_id|               title|                body|accepted_answer_id|score|view_count|comment_count|questions_created_at|\n",
      "+-------+------------+-----+----------+-------------------+--------------------+-------------------+--------------+-------+------------+----------------+--------------------+--------------------+------------------+-----+----------+-------------+--------------------+\n",
      "| 348851|     defiant|  257|      1063|2019-10-12 23:19:37| [bangalore,  india]|2010-05-24 10:36:13|     bangalore|  india|    55115359|          348851|Is there anyway I...|<p>I am using Rma...|              null|    0|       108|            0| 2019-03-12 06:27:22|\n",
      "| 348851|     defiant|  257|      1063|2019-10-12 23:19:37| [bangalore,  india]|2010-05-24 10:36:13|     bangalore|  india|    55947658|          348851|How to get the ob...|<p>Hello I am try...|          55947841|    1|        46|            0| 2019-05-02 07:35:11|\n",
      "| 348851|     defiant|  257|      1063|2019-10-12 23:19:37| [bangalore,  india]|2010-05-24 10:36:13|     bangalore|  india|    56108461|          348851|Find the path of ...|<p>Let's say I ha...|          56108515|    2|        58|            0| 2019-05-13 08:31:06|\n",
      "| 506115|       Ankuj|   82|       365|2019-10-10 05:10:44|[noida,  uttar pr...|2010-11-12 18:19:54| uttar pradesh|  india|    54454247|          506115|Regex now finding...|<p>I am using thi...|              null|    0|        47|            1| 2019-01-31 06:01:26|\n",
      "| 846316|  user846316|  113|      2867|2019-10-04 18:20:08|             [india]|2011-07-15 11:02:30|          null|  india|    54476308|          846316|Support to 64-bit...|<p>Most of the an...|          54512648|    4|      3532|            3| 2019-02-01 09:15:07|\n",
      "+-------+------------+-----+----------+-------------------+--------------------+-------------------+--------------+-------+------------+----------------+--------------------+--------------------+------------------+-----+----------+-------------+--------------------+\n",
      "only showing top 5 rows\n",
      "\n"
     ]
    }
   ],
   "source": [
    "quesIndia = indialoc.join(questions, indialoc.user_id == questions.question_user_id)\n",
    "quesIndia.show(5)\n"
   ]
  },
  {
   "cell_type": "code",
   "execution_count": 33,
   "metadata": {},
   "outputs": [
    {
     "name": "stdout",
     "output_type": "stream",
     "text": [
      "+-------+------------+-----+----------+-------------------+--------------------+-------------------+--------------+-------+------------+----------------+--------------------+--------------------+------------------+-----+----------+-------------+--------------------+\n",
      "|user_id|display_name|views|reputation|         updated_at|            location|         created_at|          city|country|questions_id|question_user_id|               title|                body|accepted_answer_id|score|view_count|comment_count|questions_created_at|\n",
      "+-------+------------+-----+----------+-------------------+--------------------+-------------------+--------------+-------+------------+----------------+--------------------+--------------------+------------------+-----+----------+-------------+--------------------+\n",
      "| 348851|     defiant|  257|      1063|2019-10-12 23:19:37| [bangalore,  india]|2010-05-24 10:36:13|     bangalore|  india|    55115359|          348851|Is there anyway I...|<p>I am using Rma...|              null|    0|       108|            0| 2019-03-12 06:27:22|\n",
      "| 348851|     defiant|  257|      1063|2019-10-12 23:19:37| [bangalore,  india]|2010-05-24 10:36:13|     bangalore|  india|    55947658|          348851|How to get the ob...|<p>Hello I am try...|          55947841|    1|        46|            0| 2019-05-02 07:35:11|\n",
      "| 348851|     defiant|  257|      1063|2019-10-12 23:19:37| [bangalore,  india]|2010-05-24 10:36:13|     bangalore|  india|    56108461|          348851|Find the path of ...|<p>Let's say I ha...|          56108515|    2|        58|            0| 2019-05-13 08:31:06|\n",
      "| 506115|       Ankuj|   82|       365|2019-10-10 05:10:44|[noida,  uttar pr...|2010-11-12 18:19:54| uttar pradesh|  india|    54454247|          506115|Regex now finding...|<p>I am using thi...|              null|    0|        47|            1| 2019-01-31 06:01:26|\n",
      "| 846316|  user846316|  113|      2867|2019-10-04 18:20:08|             [india]|2011-07-15 11:02:30|          null|  india|    54476308|          846316|Support to 64-bit...|<p>Most of the an...|          54512648|    4|      3532|            3| 2019-02-01 09:15:07|\n",
      "+-------+------------+-----+----------+-------------------+--------------------+-------------------+--------------+-------+------------+----------------+--------------------+--------------------+------------------+-----+----------+-------------+--------------------+\n",
      "only showing top 5 rows\n",
      "\n"
     ]
    }
   ],
   "source": [
    "quesIndia.filter(quesIndia.view_count >= 20).show(5)"
   ]
  },
  {
   "cell_type": "code",
   "execution_count": 34,
   "metadata": {},
   "outputs": [],
   "source": [
    "# #Join this with the questions and only pick questions with at least 20 view_counts.\n",
    "# indialoc.registerTempTable('indialoc')\n",
    "# questions.registerTempTable('questions')\n",
    "\n",
    "# quesIndia = spark.sql(\"SELECT * FROM indialoc LEFT JOIN questions ON (indialoc.user_id = questions.question_user_id) WHERE questions.view_count >= 20\")"
   ]
  },
  {
   "cell_type": "code",
   "execution_count": null,
   "metadata": {},
   "outputs": [],
   "source": []
  },
  {
   "cell_type": "code",
   "execution_count": 35,
   "metadata": {},
   "outputs": [],
   "source": [
    "# quesIndia.filter(quesIndia.display_name.isNotNull()).show(5)"
   ]
  },
  {
   "cell_type": "code",
   "execution_count": 36,
   "metadata": {},
   "outputs": [],
   "source": [
    "answers = answers.withColumnRenamed('body', 'answers_body') \n",
    "answers = answers.withColumnRenamed('score', 'answers_score') \n",
    "answers = answers.withColumnRenamed('comment_count', 'answers_comment_count') \n",
    "answers = answers.withColumnRenamed('created_at', 'answers_created_at') "
   ]
  },
  {
   "cell_type": "markdown",
   "metadata": {},
   "source": [
    "# Join the answers to the results of (3)"
   ]
  },
  {
   "cell_type": "code",
   "execution_count": 37,
   "metadata": {
    "scrolled": true
   },
   "outputs": [
    {
     "name": "stdout",
     "output_type": "stream",
     "text": [
      "+-------+--------------+-----+----------+-------------------+------------------+-------------------+--------+-------+------------+----------------+--------------------+--------------------+------------------+-----+----------+-------------+--------------------+---------+--------------+-----------+--------------------+-------------+---------------------+-------------------+\n",
      "|user_id|  display_name|views|reputation|         updated_at|          location|         created_at|    city|country|questions_id|question_user_id|               title|                body|accepted_answer_id|score|view_count|comment_count|questions_created_at|answer_id|answer_user_id|question_id|        answers_body|answers_score|answers_comment_count| answers_created_at|\n",
      "+-------+--------------+-----+----------+-------------------+------------------+-------------------+--------+-------+------------+----------------+--------------------+--------------------+------------------+-----+----------+-------------+--------------------+---------+--------------+-----------+--------------------+-------------+---------------------+-------------------+\n",
      "|3792476|       iMDroid|  271|      1598|2019-10-03 10:49:47|           [india]|2014-07-01 04:44:46|    null|  india|    54049832|         3792476|I am unable to up...|<p>I am trying to...|          54051867|    0|       150|            0| 2019-01-05 07:13:19| 54072394|       7987819|   54049832|<p>It's not a bug...|            0|                    2|2019-01-07 10:17:42|\n",
      "|3792476|       iMDroid|  271|      1598|2019-10-03 10:49:47|           [india]|2014-07-01 04:44:46|    null|  india|    54049832|         3792476|I am unable to up...|<p>I am trying to...|          54051867|    0|       150|            0| 2019-01-05 07:13:19| 54051867|      10728646|   54049832|<p>Its already re...|            1|                    1|2019-01-05 12:10:14|\n",
      "|5231773| LearnPainLess|  446|      1697|2019-10-13 02:37:58|   [ropar,  india]|2015-08-16 06:38:08|   ropar|  india|    54090658|         5231773|Likes count in No...|<p>I am building ...|          54126794|    0|       386|            4| 2019-01-08 11:16:47| 54096353|       2856218|   54090658|<p>This outputs t...|            0|                   11|2019-01-08 16:54:42|\n",
      "|5231773| LearnPainLess|  446|      1697|2019-10-13 02:37:58|   [ropar,  india]|2015-08-16 06:38:08|   ropar|  india|    54090658|         5231773|Likes count in No...|<p>I am building ...|          54126794|    0|       386|            4| 2019-01-08 11:16:47| 54126794|       5231773|   54090658|<p>I just resolve...|            0|                    0|2019-01-10 10:36:03|\n",
      "| 954093|Sandeep Thomas|  569|      1435|2019-10-07 07:27:37|[kottayam,  india]|2011-09-20 06:08:34|kottayam|  india|    54123253|          954093|Specify string da...|<p>I have a scena...|              null|    1|        55|            3| 2019-01-10 06:48:37| 54123574|       3094533|   54123253|<p>As Damien wrot...|            0|                    0|2019-01-10 07:15:39|\n",
      "+-------+--------------+-----+----------+-------------------+------------------+-------------------+--------+-------+------------+----------------+--------------------+--------------------+------------------+-----+----------+-------------+--------------------+---------+--------------+-----------+--------------------+-------------+---------------------+-------------------+\n",
      "only showing top 5 rows\n",
      "\n"
     ]
    }
   ],
   "source": [
    "ansRes = quesIndia.join(answers, answers.question_id == quesIndia.questions_id, how='left')\n",
    "ansRes.show(5)"
   ]
  },
  {
   "cell_type": "code",
   "execution_count": 38,
   "metadata": {},
   "outputs": [
    {
     "data": {
      "text/plain": [
       "39763"
      ]
     },
     "execution_count": 38,
     "metadata": {},
     "output_type": "execute_result"
    }
   ],
   "source": [
    "ansRes.count()"
   ]
  },
  {
   "cell_type": "code",
   "execution_count": 46,
   "metadata": {},
   "outputs": [],
   "source": [
    "from pyspark.sql.types import IntegerType\n",
    "ansRes = ansRes.withColumn(\"views\", ansRes[\"views\"].cast(IntegerType()))"
   ]
  },
  {
   "cell_type": "code",
   "execution_count": 47,
   "metadata": {},
   "outputs": [
    {
     "name": "stdout",
     "output_type": "stream",
     "text": [
      "root\n",
      " |-- user_id: integer (nullable = true)\n",
      " |-- display_name: string (nullable = true)\n",
      " |-- views: integer (nullable = true)\n",
      " |-- reputation: integer (nullable = true)\n",
      " |-- updated_at: string (nullable = true)\n",
      " |-- location: array (nullable = true)\n",
      " |    |-- element: string (containsNull = true)\n",
      " |-- created_at: string (nullable = true)\n",
      " |-- city: string (nullable = true)\n",
      " |-- country: string (nullable = true)\n",
      " |-- questions_id: integer (nullable = true)\n",
      " |-- question_user_id: integer (nullable = true)\n",
      " |-- title: string (nullable = true)\n",
      " |-- body: string (nullable = true)\n",
      " |-- accepted_answer_id: integer (nullable = true)\n",
      " |-- score: integer (nullable = true)\n",
      " |-- view_count: integer (nullable = true)\n",
      " |-- comment_count: integer (nullable = true)\n",
      " |-- questions_created_at: timestamp (nullable = true)\n",
      " |-- answer_id: integer (nullable = true)\n",
      " |-- answer_user_id: integer (nullable = true)\n",
      " |-- question_id: integer (nullable = true)\n",
      " |-- answers_body: string (nullable = true)\n",
      " |-- answers_score: integer (nullable = true)\n",
      " |-- answers_comment_count: integer (nullable = true)\n",
      " |-- answers_created_at: timestamp (nullable = true)\n",
      "\n"
     ]
    }
   ],
   "source": [
    "ansRes.printSchema()"
   ]
  },
  {
   "cell_type": "code",
   "execution_count": 48,
   "metadata": {},
   "outputs": [],
   "source": [
    "# quesIndia.registerTempTable('quesIndia')\n",
    "# answers.registerTempTable('answers')\n",
    "\n",
    "# ansRes = spark.sql(\"SELECT * FROM quesIndia LEFT JOIN answers ON (answers.question_id = quesIndia.questions_id)\")"
   ]
  },
  {
   "cell_type": "code",
   "execution_count": 49,
   "metadata": {},
   "outputs": [],
   "source": [
    "# ansRes.show(5)"
   ]
  },
  {
   "cell_type": "markdown",
   "metadata": {},
   "source": [
    "# Use this to return the minimum updated_at time."
   ]
  },
  {
   "cell_type": "code",
   "execution_count": 50,
   "metadata": {},
   "outputs": [
    {
     "name": "stdout",
     "output_type": "stream",
     "text": [
      "+-------------------+\n",
      "|    min(updated_at)|\n",
      "+-------------------+\n",
      "|2019-01-02 04:42:48|\n",
      "+-------------------+\n",
      "\n"
     ]
    }
   ],
   "source": [
    "min_ansRes = ansRes.select([min('updated_at')])\n",
    "min_ansRes.show()"
   ]
  },
  {
   "cell_type": "markdown",
   "metadata": {},
   "source": [
    "# Use spark to write the results into this table with the snippet below.\n"
   ]
  },
  {
   "cell_type": "code",
   "execution_count": 54,
   "metadata": {},
   "outputs": [],
   "source": [
    "\n",
    "ansRes.write.format(\"jdbc\").options(\n",
    "    url='jdbc:postgresql://localhost/postgres',\n",
    "    driver='org.postgresql.Driver',\n",
    "    user='postgres',\n",
    "    password='postgres1234',\n",
    "    dbtable='stackoverflow_filtered.results'\n",
    ").save(mode='append')\n"
   ]
  },
  {
   "cell_type": "code",
   "execution_count": 55,
   "metadata": {},
   "outputs": [
    {
     "data": {
      "text/plain": [
       "['user_id',\n",
       " 'display_name',\n",
       " 'views',\n",
       " 'reputation',\n",
       " 'updated_at',\n",
       " 'location',\n",
       " 'created_at',\n",
       " 'city',\n",
       " 'country',\n",
       " 'questions_id',\n",
       " 'question_user_id',\n",
       " 'title',\n",
       " 'body',\n",
       " 'accepted_answer_id',\n",
       " 'score',\n",
       " 'view_count',\n",
       " 'comment_count',\n",
       " 'questions_created_at',\n",
       " 'answer_id',\n",
       " 'answer_user_id',\n",
       " 'question_id',\n",
       " 'answers_body',\n",
       " 'answers_score',\n",
       " 'answers_comment_count',\n",
       " 'answers_created_at']"
      ]
     },
     "execution_count": 55,
     "metadata": {},
     "output_type": "execute_result"
    }
   ],
   "source": [
    "ansRes.columns\n"
   ]
  },
  {
   "cell_type": "markdown",
   "metadata": {},
   "source": [
    "# In your Jupyter notebook, state the difference between views and materialized views\n",
    "\n",
    "The difference between a view and a materialised view is that a view serves as a virtual table with the query passed where as the materialised view serves as a physical store table for the query passed."
   ]
  }
 ],
 "metadata": {
  "kernelspec": {
   "display_name": "Python 3",
   "language": "python",
   "name": "python3"
  },
  "language_info": {
   "codemirror_mode": {
    "name": "ipython",
    "version": 3
   },
   "file_extension": ".py",
   "mimetype": "text/x-python",
   "name": "python",
   "nbconvert_exporter": "python",
   "pygments_lexer": "ipython3",
   "version": "3.11.9"
  }
 },
 "nbformat": 4,
 "nbformat_minor": 2
}
